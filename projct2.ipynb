{
 "cells": [
  {
   "cell_type": "code",
   "execution_count": 1,
   "id": "ade37690",
   "metadata": {},
   "outputs": [
    {
     "data": {
      "text/plain": [
       "'malla reddy university'"
      ]
     },
     "execution_count": 1,
     "metadata": {},
     "output_type": "execute_result"
    }
   ],
   "source": [
    "c = 'malla reddy university'\n",
    "c"
   ]
  },
  {
   "cell_type": "code",
   "execution_count": 2,
   "id": "9a630dc7",
   "metadata": {},
   "outputs": [
    {
     "name": "stdout",
     "output_type": "stream",
     "text": [
      "malla reddy university\n"
     ]
    }
   ],
   "source": [
    "print(c)"
   ]
  },
  {
   "cell_type": "code",
   "execution_count": 3,
   "id": "757636fa",
   "metadata": {},
   "outputs": [
    {
     "data": {
      "text/plain": [
       "str"
      ]
     },
     "execution_count": 3,
     "metadata": {},
     "output_type": "execute_result"
    }
   ],
   "source": [
    "type(c)\n"
   ]
  },
  {
   "cell_type": "code",
   "execution_count": 4,
   "id": "eacab6a3",
   "metadata": {},
   "outputs": [
    {
     "data": {
      "text/plain": [
       "(3+4j)"
      ]
     },
     "execution_count": 4,
     "metadata": {},
     "output_type": "execute_result"
    }
   ],
   "source": [
    "t = (3+4j)\n",
    "t"
   ]
  },
  {
   "cell_type": "code",
   "execution_count": 5,
   "id": "cc17f3a8",
   "metadata": {},
   "outputs": [
    {
     "data": {
      "text/plain": [
       "complex"
      ]
     },
     "execution_count": 5,
     "metadata": {},
     "output_type": "execute_result"
    }
   ],
   "source": [
    "type(t)"
   ]
  },
  {
   "cell_type": "code",
   "execution_count": 7,
   "id": "7617ebaa",
   "metadata": {},
   "outputs": [
    {
     "data": {
      "text/plain": [
       "650"
      ]
     },
     "execution_count": 7,
     "metadata": {},
     "output_type": "execute_result"
    }
   ],
   "source": [
    "a = 650\n",
    "a"
   ]
  },
  {
   "cell_type": "markdown",
   "id": "ab1fb89f",
   "metadata": {},
   "source": [
    "### addition +\n",
    "### subtraction -\n",
    "### division /\n",
    "### multiplication *\n",
    "### reminder %\n",
    "### power **\n",
    "### floor division //"
   ]
  },
  {
   "cell_type": "code",
   "execution_count": 7,
   "id": "3951974d",
   "metadata": {},
   "outputs": [],
   "source": [
    "a = 23\n",
    "b = 3\n"
   ]
  },
  {
   "cell_type": "code",
   "execution_count": 9,
   "id": "0744c408",
   "metadata": {},
   "outputs": [
    {
     "data": {
      "text/plain": [
       "26"
      ]
     },
     "execution_count": 9,
     "metadata": {},
     "output_type": "execute_result"
    }
   ],
   "source": [
    "c = a + b\n",
    "c"
   ]
  },
  {
   "cell_type": "code",
   "execution_count": 10,
   "id": "87a4223a",
   "metadata": {},
   "outputs": [
    {
     "data": {
      "text/plain": [
       "int"
      ]
     },
     "execution_count": 10,
     "metadata": {},
     "output_type": "execute_result"
    }
   ],
   "source": [
    "type(c)"
   ]
  },
  {
   "cell_type": "code",
   "execution_count": 11,
   "id": "944cdb11",
   "metadata": {},
   "outputs": [
    {
     "data": {
      "text/plain": [
       "69"
      ]
     },
     "execution_count": 11,
     "metadata": {},
     "output_type": "execute_result"
    }
   ],
   "source": [
    "d = a*b\n",
    "d"
   ]
  },
  {
   "cell_type": "code",
   "execution_count": 12,
   "id": "7629b874",
   "metadata": {},
   "outputs": [
    {
     "data": {
      "text/plain": [
       "int"
      ]
     },
     "execution_count": 12,
     "metadata": {},
     "output_type": "execute_result"
    }
   ],
   "source": [
    "type(d)\n"
   ]
  },
  {
   "cell_type": "code",
   "execution_count": 13,
   "id": "3fbb361d",
   "metadata": {},
   "outputs": [
    {
     "data": {
      "text/plain": [
       "7.666666666666667"
      ]
     },
     "execution_count": 13,
     "metadata": {},
     "output_type": "execute_result"
    }
   ],
   "source": [
    "z = a/b\n",
    "z"
   ]
  },
  {
   "cell_type": "code",
   "execution_count": 14,
   "id": "5069c1f6",
   "metadata": {},
   "outputs": [
    {
     "data": {
      "text/plain": [
       "float"
      ]
     },
     "execution_count": 14,
     "metadata": {},
     "output_type": "execute_result"
    }
   ],
   "source": [
    "type(z)"
   ]
  },
  {
   "cell_type": "code",
   "execution_count": 15,
   "id": "9418c634",
   "metadata": {},
   "outputs": [
    {
     "data": {
      "text/plain": [
       "7"
      ]
     },
     "execution_count": 15,
     "metadata": {},
     "output_type": "execute_result"
    }
   ],
   "source": [
    "f = a//b\n",
    "f"
   ]
  },
  {
   "cell_type": "code",
   "execution_count": 16,
   "id": "46cb6fb8",
   "metadata": {},
   "outputs": [
    {
     "data": {
      "text/plain": [
       "12167"
      ]
     },
     "execution_count": 16,
     "metadata": {},
     "output_type": "execute_result"
    }
   ],
   "source": [
    "g = a**b\n",
    "g"
   ]
  },
  {
   "cell_type": "markdown",
   "id": "bf4570f2",
   "metadata": {},
   "source": [
    "> < >= <= == !="
   ]
  },
  {
   "cell_type": "code",
   "execution_count": 17,
   "id": "e3af8fcb",
   "metadata": {},
   "outputs": [],
   "source": [
    "a = 45\n",
    "b = 23"
   ]
  },
  {
   "cell_type": "code",
   "execution_count": 18,
   "id": "62eb9623",
   "metadata": {},
   "outputs": [
    {
     "data": {
      "text/plain": [
       "False"
      ]
     },
     "execution_count": 18,
     "metadata": {},
     "output_type": "execute_result"
    }
   ],
   "source": [
    "a<b"
   ]
  },
  {
   "cell_type": "code",
   "execution_count": 19,
   "id": "f1aedc35",
   "metadata": {},
   "outputs": [
    {
     "data": {
      "text/plain": [
       "False"
      ]
     },
     "execution_count": 19,
     "metadata": {},
     "output_type": "execute_result"
    }
   ],
   "source": [
    "b>c"
   ]
  },
  {
   "cell_type": "code",
   "execution_count": 20,
   "id": "60e5cdd5",
   "metadata": {},
   "outputs": [
    {
     "data": {
      "text/plain": [
       "True"
      ]
     },
     "execution_count": 20,
     "metadata": {},
     "output_type": "execute_result"
    }
   ],
   "source": [
    "a>=b"
   ]
  },
  {
   "cell_type": "code",
   "execution_count": 21,
   "id": "fef759b5",
   "metadata": {},
   "outputs": [
    {
     "data": {
      "text/plain": [
       "False"
      ]
     },
     "execution_count": 21,
     "metadata": {},
     "output_type": "execute_result"
    }
   ],
   "source": [
    "a<=b\n"
   ]
  },
  {
   "cell_type": "code",
   "execution_count": 22,
   "id": "4570ece4",
   "metadata": {},
   "outputs": [
    {
     "data": {
      "text/plain": [
       "False"
      ]
     },
     "execution_count": 22,
     "metadata": {},
     "output_type": "execute_result"
    }
   ],
   "source": [
    "a==b"
   ]
  },
  {
   "cell_type": "code",
   "execution_count": 23,
   "id": "d72adc77",
   "metadata": {},
   "outputs": [
    {
     "data": {
      "text/plain": [
       "True"
      ]
     },
     "execution_count": 23,
     "metadata": {},
     "output_type": "execute_result"
    }
   ],
   "source": [
    "a!=b"
   ]
  },
  {
   "cell_type": "markdown",
   "id": "23c5aa9c",
   "metadata": {},
   "source": [
    "  list tuple"
   ]
  },
  {
   "cell_type": "code",
   "execution_count": 3,
   "id": "c20a4536",
   "metadata": {},
   "outputs": [],
   "source": [
    "a = 56"
   ]
  },
  {
   "cell_type": "code",
   "execution_count": 4,
   "id": "c55f60c6",
   "metadata": {},
   "outputs": [
    {
     "data": {
      "text/plain": [
       "56"
      ]
     },
     "execution_count": 4,
     "metadata": {},
     "output_type": "execute_result"
    }
   ],
   "source": [
    "a"
   ]
  },
  {
   "cell_type": "code",
   "execution_count": 5,
   "id": "7a6040f9",
   "metadata": {},
   "outputs": [
    {
     "data": {
      "text/plain": [
       "[23, 34, 45, 56, 67]"
      ]
     },
     "execution_count": 5,
     "metadata": {},
     "output_type": "execute_result"
    }
   ],
   "source": [
    "a=[ 23,34,45,56,67]\n",
    "a"
   ]
  },
  {
   "cell_type": "code",
   "execution_count": 6,
   "id": "3eb5ac1c",
   "metadata": {},
   "outputs": [
    {
     "data": {
      "text/plain": [
       "list"
      ]
     },
     "execution_count": 6,
     "metadata": {},
     "output_type": "execute_result"
    }
   ],
   "source": [
    "type(a)"
   ]
  },
  {
   "cell_type": "code",
   "execution_count": 17,
   "id": "ac2dc6ab",
   "metadata": {},
   "outputs": [
    {
     "data": {
      "text/plain": [
       "[340, 80, 45, 'data', True]"
      ]
     },
     "execution_count": 17,
     "metadata": {},
     "output_type": "execute_result"
    }
   ],
   "source": [
    "d = [340,80,45,'data',True]\n",
    "d"
   ]
  },
  {
   "cell_type": "code",
   "execution_count": 18,
   "id": "70ebd222",
   "metadata": {},
   "outputs": [],
   "source": [
    "c = [203,'Hyderabad',45,True,False,78,175,34.9]"
   ]
  },
  {
   "cell_type": "code",
   "execution_count": 19,
   "id": "c00d0738",
   "metadata": {},
   "outputs": [
    {
     "data": {
      "text/plain": [
       "[203, 'Hyderabad', 45, True, False, 78, 175, 34.9]"
      ]
     },
     "execution_count": 19,
     "metadata": {},
     "output_type": "execute_result"
    }
   ],
   "source": [
    "c"
   ]
  },
  {
   "cell_type": "code",
   "execution_count": 20,
   "id": "6f51505e",
   "metadata": {},
   "outputs": [
    {
     "data": {
      "text/plain": [
       "203"
      ]
     },
     "execution_count": 20,
     "metadata": {},
     "output_type": "execute_result"
    }
   ],
   "source": [
    "c[0]"
   ]
  },
  {
   "cell_type": "code",
   "execution_count": 21,
   "id": "06648c9e",
   "metadata": {},
   "outputs": [
    {
     "data": {
      "text/plain": [
       "'Hyderabad'"
      ]
     },
     "execution_count": 21,
     "metadata": {},
     "output_type": "execute_result"
    }
   ],
   "source": [
    "c[1]"
   ]
  },
  {
   "cell_type": "code",
   "execution_count": null,
   "id": "715128cf",
   "metadata": {},
   "outputs": [],
   "source": []
  },
  {
   "cell_type": "code",
   "execution_count": 22,
   "id": "671f76db",
   "metadata": {},
   "outputs": [
    {
     "data": {
      "text/plain": [
       "False"
      ]
     },
     "execution_count": 22,
     "metadata": {},
     "output_type": "execute_result"
    }
   ],
   "source": [
    "c[4]"
   ]
  },
  {
   "cell_type": "code",
   "execution_count": 23,
   "id": "801efdd4",
   "metadata": {},
   "outputs": [
    {
     "data": {
      "text/plain": [
       "[203, 'Hyderabad', 45, True, False, 78, 175, 34.9]"
      ]
     },
     "execution_count": 23,
     "metadata": {},
     "output_type": "execute_result"
    }
   ],
   "source": [
    "c"
   ]
  },
  {
   "cell_type": "code",
   "execution_count": 24,
   "id": "d92e4bd6",
   "metadata": {},
   "outputs": [
    {
     "data": {
      "text/plain": [
       "[203, False]"
      ]
     },
     "execution_count": 24,
     "metadata": {},
     "output_type": "execute_result"
    }
   ],
   "source": [
    "c[0:8:4]"
   ]
  },
  {
   "cell_type": "code",
   "execution_count": 25,
   "id": "23865ae4",
   "metadata": {},
   "outputs": [
    {
     "data": {
      "text/plain": [
       "45"
      ]
     },
     "execution_count": 25,
     "metadata": {},
     "output_type": "execute_result"
    }
   ],
   "source": [
    "c[2]"
   ]
  },
  {
   "cell_type": "code",
   "execution_count": 4,
   "id": "41fbaed3",
   "metadata": {},
   "outputs": [
    {
     "data": {
      "text/plain": [
       "[175, 78, False, True, 45]"
      ]
     },
     "execution_count": 4,
     "metadata": {},
     "output_type": "execute_result"
    }
   ],
   "source": [
    "e = [175,78,False,True,45]\n",
    "e"
   ]
  },
  {
   "cell_type": "code",
   "execution_count": 5,
   "id": "a6c9f215",
   "metadata": {},
   "outputs": [
    {
     "data": {
      "text/plain": [
       "[45, True]"
      ]
     },
     "execution_count": 5,
     "metadata": {},
     "output_type": "execute_result"
    }
   ],
   "source": [
    "e[6:2:-1]"
   ]
  },
  {
   "cell_type": "code",
   "execution_count": 8,
   "id": "bd19ad5b",
   "metadata": {},
   "outputs": [
    {
     "data": {
      "text/plain": [
       "[203, 90, 'Hyderabad', True, False, 78, 34.9, 80]"
      ]
     },
     "execution_count": 8,
     "metadata": {},
     "output_type": "execute_result"
    }
   ],
   "source": [
    "c = [203,90,'Hyderabad',True,False,78,34.9,80]\n",
    "c"
   ]
  },
  {
   "cell_type": "markdown",
   "id": "19c770bb",
   "metadata": {},
   "source": [
    "list methods"
   ]
  },
  {
   "cell_type": "markdown",
   "id": "20ec689c-0733-47fe-8f14-da838418f94d",
   "metadata": {},
   "source": [
    "append\n",
    "insert \n",
    "extend \n",
    "pop\n",
    "remove\n",
    "clear \n",
    "count"
   ]
  },
  {
   "cell_type": "code",
   "execution_count": 14,
   "id": "41442912",
   "metadata": {},
   "outputs": [
    {
     "data": {
      "text/plain": [
       "[203, 90, 'Hyderabad', False, 78, 34.9, 80]"
      ]
     },
     "execution_count": 14,
     "metadata": {},
     "output_type": "execute_result"
    }
   ],
   "source": [
    "c"
   ]
  },
  {
   "cell_type": "code",
   "execution_count": 16,
   "id": "cf1fe980",
   "metadata": {},
   "outputs": [
    {
     "data": {
      "text/plain": [
       "[203, 90, 'Hyderabad', 34.9, 80]"
      ]
     },
     "execution_count": 16,
     "metadata": {},
     "output_type": "execute_result"
    }
   ],
   "source": [
    "c.pop(3)\n",
    "c"
   ]
  },
  {
   "cell_type": "code",
   "execution_count": 17,
   "id": "44299b4b",
   "metadata": {},
   "outputs": [
    {
     "data": {
      "text/plain": [
       "[203, 90, 'Hyderabad', 34.9, 80, 80]"
      ]
     },
     "execution_count": 17,
     "metadata": {},
     "output_type": "execute_result"
    }
   ],
   "source": [
    "c.append(80)\n",
    "c"
   ]
  },
  {
   "cell_type": "code",
   "execution_count": 18,
   "id": "a949ace2",
   "metadata": {},
   "outputs": [
    {
     "data": {
      "text/plain": [
       "[203, 80, 90, 'Hyderabad', 34.9, 80, 80]"
      ]
     },
     "execution_count": 18,
     "metadata": {},
     "output_type": "execute_result"
    }
   ],
   "source": [
    "c.insert(1,80)\n",
    "c"
   ]
  },
  {
   "cell_type": "code",
   "execution_count": 19,
   "id": "6398c15e",
   "metadata": {},
   "outputs": [
    {
     "data": {
      "text/plain": [
       "[203, 80, 90, 'Hyderabad', 34.9, 80, 80]"
      ]
     },
     "execution_count": 19,
     "metadata": {},
     "output_type": "execute_result"
    }
   ],
   "source": [
    "c.count(203)\n",
    "c"
   ]
  },
  {
   "cell_type": "code",
   "execution_count": 6,
   "id": "6e9f1cbc",
   "metadata": {},
   "outputs": [
    {
     "data": {
      "text/plain": [
       "{101: 4, 102: 7, 105: 2}"
      ]
     },
     "execution_count": 6,
     "metadata": {},
     "output_type": "execute_result"
    }
   ],
   "source": [
    "d={101: 4,102:7,105: 2}\n",
    "d"
   ]
  },
  {
   "cell_type": "code",
   "execution_count": 4,
   "id": "da3d88d8",
   "metadata": {},
   "outputs": [
    {
     "data": {
      "text/plain": [
       "4"
      ]
     },
     "execution_count": 4,
     "metadata": {},
     "output_type": "execute_result"
    }
   ],
   "source": [
    "d[101]"
   ]
  },
  {
   "cell_type": "code",
   "execution_count": 7,
   "id": "050817ff",
   "metadata": {},
   "outputs": [
    {
     "data": {
      "text/plain": [
       "2"
      ]
     },
     "execution_count": 7,
     "metadata": {},
     "output_type": "execute_result"
    }
   ],
   "source": [
    "d[105]"
   ]
  },
  {
   "cell_type": "code",
   "execution_count": 9,
   "id": "f2ee111b",
   "metadata": {},
   "outputs": [],
   "source": [
    "d.update({105:300})"
   ]
  },
  {
   "cell_type": "code",
   "execution_count": 10,
   "id": "3f7e2c34",
   "metadata": {},
   "outputs": [
    {
     "data": {
      "text/plain": [
       "{101: 4, 102: 7, 105: 300}"
      ]
     },
     "execution_count": 10,
     "metadata": {},
     "output_type": "execute_result"
    }
   ],
   "source": [
    "d"
   ]
  },
  {
   "cell_type": "code",
   "execution_count": 13,
   "id": "e6bbf492",
   "metadata": {},
   "outputs": [
    {
     "data": {
      "text/plain": [
       "dict_values([4, 7, 300])"
      ]
     },
     "execution_count": 13,
     "metadata": {},
     "output_type": "execute_result"
    }
   ],
   "source": [
    "d.values()"
   ]
  },
  {
   "cell_type": "code",
   "execution_count": 14,
   "id": "e0bb6852",
   "metadata": {},
   "outputs": [],
   "source": [
    "d.update({103: 'India'})"
   ]
  },
  {
   "cell_type": "code",
   "execution_count": 15,
   "id": "c6f947da",
   "metadata": {},
   "outputs": [
    {
     "data": {
      "text/plain": [
       "{101: 4, 102: 7, 105: 300, 103: 'India'}"
      ]
     },
     "execution_count": 15,
     "metadata": {},
     "output_type": "execute_result"
    }
   ],
   "source": [
    "d"
   ]
  },
  {
   "cell_type": "code",
   "execution_count": 16,
   "id": "1fb4a8a8",
   "metadata": {},
   "outputs": [],
   "source": [
    "d[106] = 4000"
   ]
  },
  {
   "cell_type": "code",
   "execution_count": 17,
   "id": "08332ef9",
   "metadata": {},
   "outputs": [
    {
     "data": {
      "text/plain": [
       "{101: 4, 102: 7, 105: 300, 103: 'India', 106: 4000}"
      ]
     },
     "execution_count": 17,
     "metadata": {},
     "output_type": "execute_result"
    }
   ],
   "source": [
    "d"
   ]
  },
  {
   "cell_type": "code",
   "execution_count": 19,
   "id": "fe658287",
   "metadata": {},
   "outputs": [],
   "source": [
    "d[107] = 3000"
   ]
  },
  {
   "cell_type": "code",
   "execution_count": 20,
   "id": "ea233c43",
   "metadata": {},
   "outputs": [
    {
     "data": {
      "text/plain": [
       "{101: 4, 102: 7, 105: 300, 103: 'India', 106: 4000, 107: 3000}"
      ]
     },
     "execution_count": 20,
     "metadata": {},
     "output_type": "execute_result"
    }
   ],
   "source": [
    "d"
   ]
  },
  {
   "cell_type": "code",
   "execution_count": 21,
   "id": "b396889c",
   "metadata": {},
   "outputs": [],
   "source": [
    "d[108] = 'ram'"
   ]
  },
  {
   "cell_type": "code",
   "execution_count": 22,
   "id": "22b9c4bd",
   "metadata": {},
   "outputs": [
    {
     "data": {
      "text/plain": [
       "{101: 4, 102: 7, 105: 300, 103: 'India', 106: 4000, 107: 3000, 108: 'ram'}"
      ]
     },
     "execution_count": 22,
     "metadata": {},
     "output_type": "execute_result"
    }
   ],
   "source": [
    "d"
   ]
  },
  {
   "cell_type": "code",
   "execution_count": 23,
   "id": "b9caee3f",
   "metadata": {},
   "outputs": [],
   "source": [
    "del d[105]"
   ]
  },
  {
   "cell_type": "code",
   "execution_count": 24,
   "id": "948b48b1",
   "metadata": {},
   "outputs": [
    {
     "data": {
      "text/plain": [
       "{101: 4, 102: 7, 103: 'India', 106: 4000, 107: 3000, 108: 'ram'}"
      ]
     },
     "execution_count": 24,
     "metadata": {},
     "output_type": "execute_result"
    }
   ],
   "source": [
    "d"
   ]
  },
  {
   "cell_type": "code",
   "execution_count": 25,
   "id": "64a3292b",
   "metadata": {},
   "outputs": [],
   "source": [
    "d.update({102 : 600})"
   ]
  },
  {
   "cell_type": "code",
   "execution_count": 26,
   "id": "253e535c",
   "metadata": {},
   "outputs": [
    {
     "data": {
      "text/plain": [
       "{101: 4, 102: 600, 103: 'India', 106: 4000, 107: 3000, 108: 'ram'}"
      ]
     },
     "execution_count": 26,
     "metadata": {},
     "output_type": "execute_result"
    }
   ],
   "source": [
    "d"
   ]
  },
  {
   "cell_type": "code",
   "execution_count": 27,
   "id": "21d01031",
   "metadata": {},
   "outputs": [],
   "source": [
    "d.update({101 : 'India'})"
   ]
  },
  {
   "cell_type": "code",
   "execution_count": 28,
   "id": "590dcaf0",
   "metadata": {},
   "outputs": [
    {
     "data": {
      "text/plain": [
       "{101: 'India', 102: 600, 103: 'India', 106: 4000, 107: 3000, 108: 'ram'}"
      ]
     },
     "execution_count": 28,
     "metadata": {},
     "output_type": "execute_result"
    }
   ],
   "source": [
    "d"
   ]
  },
  {
   "cell_type": "code",
   "execution_count": 29,
   "id": "c0200b42",
   "metadata": {},
   "outputs": [
    {
     "data": {
      "text/plain": [
       "'India'"
      ]
     },
     "execution_count": 29,
     "metadata": {},
     "output_type": "execute_result"
    }
   ],
   "source": [
    "d.get(103)"
   ]
  },
  {
   "cell_type": "code",
   "execution_count": 30,
   "id": "889384f2",
   "metadata": {},
   "outputs": [
    {
     "data": {
      "text/plain": [
       "dict"
      ]
     },
     "execution_count": 30,
     "metadata": {},
     "output_type": "execute_result"
    }
   ],
   "source": [
    "type(d)"
   ]
  },
  {
   "cell_type": "code",
   "execution_count": 31,
   "id": "6448e2ab",
   "metadata": {},
   "outputs": [
    {
     "data": {
      "text/plain": [
       "{101: 'India', 102: 600, 103: 'India', 106: 4000, 107: 3000, 108: 'ram'}"
      ]
     },
     "execution_count": 31,
     "metadata": {},
     "output_type": "execute_result"
    }
   ],
   "source": [
    "d"
   ]
  },
  {
   "cell_type": "code",
   "execution_count": 32,
   "id": "412fddb3",
   "metadata": {},
   "outputs": [],
   "source": [
    "d[104] = [1000,2000,3000,4000,5000]"
   ]
  },
  {
   "cell_type": "code",
   "execution_count": 33,
   "id": "3271d069",
   "metadata": {},
   "outputs": [
    {
     "data": {
      "text/plain": [
       "{101: 'India',\n",
       " 102: 600,\n",
       " 103: 'India',\n",
       " 106: 4000,\n",
       " 107: 3000,\n",
       " 108: 'ram',\n",
       " 104: [1000, 2000, 3000, 4000, 5000]}"
      ]
     },
     "execution_count": 33,
     "metadata": {},
     "output_type": "execute_result"
    }
   ],
   "source": [
    "d"
   ]
  },
  {
   "cell_type": "code",
   "execution_count": 35,
   "id": "eb06200b",
   "metadata": {},
   "outputs": [
    {
     "data": {
      "text/plain": [
       "int"
      ]
     },
     "execution_count": 35,
     "metadata": {},
     "output_type": "execute_result"
    }
   ],
   "source": [
    "type(d[107])"
   ]
  },
  {
   "cell_type": "code",
   "execution_count": 36,
   "id": "2e3002c7",
   "metadata": {},
   "outputs": [
    {
     "data": {
      "text/plain": [
       "str"
      ]
     },
     "execution_count": 36,
     "metadata": {},
     "output_type": "execute_result"
    }
   ],
   "source": [
    "type(d[103])"
   ]
  },
  {
   "cell_type": "code",
   "execution_count": 40,
   "id": "288fb22d",
   "metadata": {},
   "outputs": [
    {
     "data": {
      "text/plain": [
       "{101: 'India',\n",
       " 102: 600,\n",
       " 103: 'India',\n",
       " 106: 4000,\n",
       " 107: 3000,\n",
       " 108: 'ram',\n",
       " 104: [1000, 2000, 3000, 4000, 5000]}"
      ]
     },
     "execution_count": 40,
     "metadata": {},
     "output_type": "execute_result"
    }
   ],
   "source": [
    "d"
   ]
  },
  {
   "cell_type": "code",
   "execution_count": 41,
   "id": "d005986f",
   "metadata": {},
   "outputs": [],
   "source": [
    "d.update({103:(30,40,50,60,70)})"
   ]
  },
  {
   "cell_type": "code",
   "execution_count": 42,
   "id": "a0d69b69",
   "metadata": {},
   "outputs": [
    {
     "data": {
      "text/plain": [
       "{101: 'India',\n",
       " 102: 600,\n",
       " 103: (30, 40, 50, 60, 70),\n",
       " 106: 4000,\n",
       " 107: 3000,\n",
       " 108: 'ram',\n",
       " 104: [1000, 2000, 3000, 4000, 5000]}"
      ]
     },
     "execution_count": 42,
     "metadata": {},
     "output_type": "execute_result"
    }
   ],
   "source": [
    "d"
   ]
  },
  {
   "cell_type": "code",
   "execution_count": 43,
   "id": "0cf4cdb4",
   "metadata": {},
   "outputs": [],
   "source": [
    "d[104].append(9000)"
   ]
  },
  {
   "cell_type": "code",
   "execution_count": 44,
   "id": "6ddd3356",
   "metadata": {},
   "outputs": [
    {
     "data": {
      "text/plain": [
       "{101: 'India',\n",
       " 102: 600,\n",
       " 103: (30, 40, 50, 60, 70),\n",
       " 106: 4000,\n",
       " 107: 3000,\n",
       " 108: 'ram',\n",
       " 104: [1000, 2000, 3000, 4000, 5000, 9000]}"
      ]
     },
     "execution_count": 44,
     "metadata": {},
     "output_type": "execute_result"
    }
   ],
   "source": [
    "d"
   ]
  },
  {
   "cell_type": "code",
   "execution_count": 45,
   "id": "4e0210fc",
   "metadata": {},
   "outputs": [
    {
     "data": {
      "text/plain": [
       "[1000, 2000, 3000, 4000, 5000, 9000]"
      ]
     },
     "execution_count": 45,
     "metadata": {},
     "output_type": "execute_result"
    }
   ],
   "source": [
    "d[104]"
   ]
  },
  {
   "cell_type": "code",
   "execution_count": 46,
   "id": "68269dce",
   "metadata": {},
   "outputs": [
    {
     "data": {
      "text/plain": [
       "list"
      ]
     },
     "execution_count": 46,
     "metadata": {},
     "output_type": "execute_result"
    }
   ],
   "source": [
    "type(d[104])"
   ]
  },
  {
   "cell_type": "code",
   "execution_count": 47,
   "id": "606dcfe5",
   "metadata": {},
   "outputs": [
    {
     "data": {
      "text/plain": [
       "1"
      ]
     },
     "execution_count": 47,
     "metadata": {},
     "output_type": "execute_result"
    }
   ],
   "source": [
    "d[104].count(9000)"
   ]
  },
  {
   "cell_type": "code",
   "execution_count": 48,
   "id": "47aec85c",
   "metadata": {},
   "outputs": [
    {
     "data": {
      "text/plain": [
       "0"
      ]
     },
     "execution_count": 48,
     "metadata": {},
     "output_type": "execute_result"
    }
   ],
   "source": [
    "d[104].count(10000)"
   ]
  },
  {
   "cell_type": "code",
   "execution_count": 49,
   "id": "641e9bfd",
   "metadata": {},
   "outputs": [],
   "source": [
    "a='india'"
   ]
  },
  {
   "cell_type": "code",
   "execution_count": 50,
   "id": "e25caaaa",
   "metadata": {},
   "outputs": [
    {
     "data": {
      "text/plain": [
       "'india'"
      ]
     },
     "execution_count": 50,
     "metadata": {},
     "output_type": "execute_result"
    }
   ],
   "source": [
    "a"
   ]
  },
  {
   "cell_type": "code",
   "execution_count": 51,
   "id": "ba83ccaf",
   "metadata": {},
   "outputs": [
    {
     "data": {
      "text/plain": [
       "False"
      ]
     },
     "execution_count": 51,
     "metadata": {},
     "output_type": "execute_result"
    }
   ],
   "source": [
    "a.isdigit()"
   ]
  },
  {
   "cell_type": "code",
   "execution_count": 52,
   "id": "6f0b0e18",
   "metadata": {},
   "outputs": [
    {
     "data": {
      "text/plain": [
       "'INDIA'"
      ]
     },
     "execution_count": 52,
     "metadata": {},
     "output_type": "execute_result"
    }
   ],
   "source": [
    "a.upper()"
   ]
  },
  {
   "cell_type": "code",
   "execution_count": 53,
   "id": "15c47df2",
   "metadata": {},
   "outputs": [
    {
     "data": {
      "text/plain": [
       "'india'"
      ]
     },
     "execution_count": 53,
     "metadata": {},
     "output_type": "execute_result"
    }
   ],
   "source": [
    "a.lower()"
   ]
  },
  {
   "cell_type": "code",
   "execution_count": 56,
   "id": "5ad84c96",
   "metadata": {},
   "outputs": [],
   "source": [
    "d[104].insert(2,5500)"
   ]
  },
  {
   "cell_type": "code",
   "execution_count": 57,
   "id": "e9297946",
   "metadata": {
    "scrolled": true
   },
   "outputs": [
    {
     "data": {
      "text/plain": [
       "{101: 'India',\n",
       " 102: 600,\n",
       " 103: (30, 40, 50, 60, 70),\n",
       " 106: 4000,\n",
       " 107: 3000,\n",
       " 108: 'ram',\n",
       " 104: [1000, 2000, 5500, 3000, 4000, 5000, 9000]}"
      ]
     },
     "execution_count": 57,
     "metadata": {},
     "output_type": "execute_result"
    }
   ],
   "source": [
    "d"
   ]
  },
  {
   "cell_type": "code",
   "execution_count": 58,
   "id": "f69612bc",
   "metadata": {},
   "outputs": [],
   "source": [
    "d.update({103:(30,40,50,60)})"
   ]
  },
  {
   "cell_type": "code",
   "execution_count": 59,
   "id": "3d8789a8",
   "metadata": {},
   "outputs": [
    {
     "data": {
      "text/plain": [
       "{101: 'India',\n",
       " 102: 600,\n",
       " 103: (30, 40, 50, 60),\n",
       " 106: 4000,\n",
       " 107: 3000,\n",
       " 108: 'ram',\n",
       " 104: [1000, 2000, 5500, 3000, 4000, 5000, 9000]}"
      ]
     },
     "execution_count": 59,
     "metadata": {},
     "output_type": "execute_result"
    }
   ],
   "source": [
    "d"
   ]
  },
  {
   "cell_type": "code",
   "execution_count": 60,
   "id": "a14ebd10",
   "metadata": {},
   "outputs": [
    {
     "data": {
      "text/plain": [
       "int"
      ]
     },
     "execution_count": 60,
     "metadata": {},
     "output_type": "execute_result"
    }
   ],
   "source": [
    "type(d[107])"
   ]
  },
  {
   "cell_type": "code",
   "execution_count": 62,
   "id": "2622a8de",
   "metadata": {},
   "outputs": [
    {
     "data": {
      "text/plain": [
       "'RAM'"
      ]
     },
     "execution_count": 62,
     "metadata": {},
     "output_type": "execute_result"
    }
   ],
   "source": [
    "d[108].upper()"
   ]
  },
  {
   "cell_type": "code",
   "execution_count": 64,
   "id": "cf7b1a26",
   "metadata": {},
   "outputs": [],
   "source": [
    "d[101]=d[101].upper()"
   ]
  },
  {
   "cell_type": "code",
   "execution_count": 65,
   "id": "0ea74aaa",
   "metadata": {},
   "outputs": [
    {
     "data": {
      "text/plain": [
       "{101: 'INDIA',\n",
       " 102: 600,\n",
       " 103: (30, 40, 50, 60),\n",
       " 106: 4000,\n",
       " 107: 3000,\n",
       " 108: 'ram',\n",
       " 104: [1000, 2000, 5500, 3000, 4000, 5000, 9000]}"
      ]
     },
     "execution_count": 65,
     "metadata": {},
     "output_type": "execute_result"
    }
   ],
   "source": [
    "d"
   ]
  },
  {
   "cell_type": "code",
   "execution_count": 66,
   "id": "110a60b5",
   "metadata": {},
   "outputs": [],
   "source": [
    "d[108]=d[108].upper()"
   ]
  },
  {
   "cell_type": "code",
   "execution_count": 67,
   "id": "708d3135",
   "metadata": {},
   "outputs": [
    {
     "data": {
      "text/plain": [
       "{101: 'INDIA',\n",
       " 102: 600,\n",
       " 103: (30, 40, 50, 60),\n",
       " 106: 4000,\n",
       " 107: 3000,\n",
       " 108: 'RAM',\n",
       " 104: [1000, 2000, 5500, 3000, 4000, 5000, 9000]}"
      ]
     },
     "execution_count": 67,
     "metadata": {},
     "output_type": "execute_result"
    }
   ],
   "source": [
    "d"
   ]
  },
  {
   "cell_type": "code",
   "execution_count": 68,
   "id": "26c7cab2",
   "metadata": {},
   "outputs": [
    {
     "data": {
      "text/plain": [
       "'india'"
      ]
     },
     "execution_count": 68,
     "metadata": {},
     "output_type": "execute_result"
    }
   ],
   "source": [
    "d[101].lower()"
   ]
  },
  {
   "cell_type": "code",
   "execution_count": 69,
   "id": "71ce3d72",
   "metadata": {},
   "outputs": [],
   "source": [
    "d[101]=d[101].lower()"
   ]
  },
  {
   "cell_type": "code",
   "execution_count": 70,
   "id": "21bd6717",
   "metadata": {},
   "outputs": [
    {
     "data": {
      "text/plain": [
       "{101: 'india',\n",
       " 102: 600,\n",
       " 103: (30, 40, 50, 60),\n",
       " 106: 4000,\n",
       " 107: 3000,\n",
       " 108: 'RAM',\n",
       " 104: [1000, 2000, 5500, 3000, 4000, 5000, 9000]}"
      ]
     },
     "execution_count": 70,
     "metadata": {},
     "output_type": "execute_result"
    }
   ],
   "source": [
    "d"
   ]
  },
  {
   "cell_type": "code",
   "execution_count": 71,
   "id": "2a7eba85",
   "metadata": {},
   "outputs": [],
   "source": [
    "d[108]=d[108].lower()"
   ]
  },
  {
   "cell_type": "code",
   "execution_count": 72,
   "id": "13f28774",
   "metadata": {},
   "outputs": [
    {
     "data": {
      "text/plain": [
       "{101: 'india',\n",
       " 102: 600,\n",
       " 103: (30, 40, 50, 60),\n",
       " 106: 4000,\n",
       " 107: 3000,\n",
       " 108: 'ram',\n",
       " 104: [1000, 2000, 5500, 3000, 4000, 5000, 9000]}"
      ]
     },
     "execution_count": 72,
     "metadata": {},
     "output_type": "execute_result"
    }
   ],
   "source": [
    "d"
   ]
  },
  {
   "cell_type": "code",
   "execution_count": 73,
   "id": "90247a8c",
   "metadata": {},
   "outputs": [
    {
     "data": {
      "text/plain": [
       "int"
      ]
     },
     "execution_count": 73,
     "metadata": {},
     "output_type": "execute_result"
    }
   ],
   "source": [
    "type(d[102])"
   ]
  },
  {
   "cell_type": "code",
   "execution_count": 74,
   "id": "a2fdfa73",
   "metadata": {},
   "outputs": [
    {
     "data": {
      "text/plain": [
       "tuple"
      ]
     },
     "execution_count": 74,
     "metadata": {},
     "output_type": "execute_result"
    }
   ],
   "source": [
    "type(d[103])"
   ]
  },
  {
   "cell_type": "code",
   "execution_count": 75,
   "id": "602306e6",
   "metadata": {},
   "outputs": [],
   "source": [
    "d[101]={50:[7,8,9,10],'apple':(20,10,70,[90,180,270])}"
   ]
  },
  {
   "cell_type": "code",
   "execution_count": 76,
   "id": "dc21b075",
   "metadata": {},
   "outputs": [
    {
     "data": {
      "text/plain": [
       "{101: {50: [7, 8, 9, 10], 'apple': (20, 10, 70, [90, 180, 270])},\n",
       " 102: 600,\n",
       " 103: (30, 40, 50, 60),\n",
       " 106: 4000,\n",
       " 107: 3000,\n",
       " 108: 'ram',\n",
       " 104: [1000, 2000, 5500, 3000, 4000, 5000, 9000]}"
      ]
     },
     "execution_count": 76,
     "metadata": {},
     "output_type": "execute_result"
    }
   ],
   "source": [
    "d"
   ]
  },
  {
   "cell_type": "code",
   "execution_count": 77,
   "id": "94db131c",
   "metadata": {},
   "outputs": [],
   "source": [
    "d[105]={'a':{30,50,70},'b':(1000,5000,7000,9000),'c':['K',{'L':[11,22],'M':(77,88)},'N']}"
   ]
  },
  {
   "cell_type": "code",
   "execution_count": 78,
   "id": "e8623892",
   "metadata": {},
   "outputs": [
    {
     "data": {
      "text/plain": [
       "{101: {50: [7, 8, 9, 10], 'apple': (20, 10, 70, [90, 180, 270])},\n",
       " 102: 600,\n",
       " 103: (30, 40, 50, 60),\n",
       " 106: 4000,\n",
       " 107: 3000,\n",
       " 108: 'ram',\n",
       " 104: [1000, 2000, 5500, 3000, 4000, 5000, 9000],\n",
       " 105: {'a': {30, 50, 70},\n",
       "  'b': (1000, 5000, 7000, 9000),\n",
       "  'c': ['K', {'L': [11, 22], 'M': (77, 88)}, 'N']}}"
      ]
     },
     "execution_count": 78,
     "metadata": {},
     "output_type": "execute_result"
    }
   ],
   "source": [
    "d"
   ]
  },
  {
   "cell_type": "markdown",
   "id": "f51bfb04-7e0f-49c1-a13c-ed1843a4691e",
   "metadata": {},
   "source": [
    "if condition1:\n",
    "    task1 block of code\n",
    "elif condition2:\n",
    "    task2 block of code\n",
    "elif condition3:\n",
    "    tas3 block of code\n",
    "    .\n",
    "    .\n",
    "    .\n",
    "elif condition n:\n",
    "   task n\n",
    "else:\n",
    "    task4 block of code"
   ]
  },
  {
   "cell_type": "code",
   "execution_count": 2,
   "id": "c584917b-8d31-4935-936e-5af94ef82396",
   "metadata": {},
   "outputs": [
    {
     "name": "stdout",
     "output_type": "stream",
     "text": [
      "odd\n"
     ]
    }
   ],
   "source": [
    "x=9\n",
    "if x%2==0:\n",
    "    print(\"Even\")\n",
    "else:\n",
    "    print(\"odd\")"
   ]
  },
  {
   "cell_type": "code",
   "execution_count": 3,
   "id": "839a0f24-0086-4846-ad10-906e6c510482",
   "metadata": {},
   "outputs": [
    {
     "data": {
      "text/plain": [
       "1"
      ]
     },
     "execution_count": 3,
     "metadata": {},
     "output_type": "execute_result"
    }
   ],
   "source": [
    "7%2"
   ]
  },
  {
   "cell_type": "code",
   "execution_count": 4,
   "id": "dd2875b3-7cfa-44db-a680-618f78909a7d",
   "metadata": {},
   "outputs": [
    {
     "data": {
      "text/plain": [
       "False"
      ]
     },
     "execution_count": 4,
     "metadata": {},
     "output_type": "execute_result"
    }
   ],
   "source": [
    "x%2==0"
   ]
  },
  {
   "cell_type": "code",
   "execution_count": null,
   "id": "fad99a09-1215-4dea-aef3-59a76903c9b0",
   "metadata": {},
   "outputs": [],
   "source": [
    "wap to know the number is positive,negitive or zero\n"
   ]
  },
  {
   "cell_type": "code",
   "execution_count": 1,
   "id": "7f3b0017-ec0c-4e9e-b71c-28a3e1fa866b",
   "metadata": {},
   "outputs": [
    {
     "name": "stdout",
     "output_type": "stream",
     "text": [
      "zero\n"
     ]
    }
   ],
   "source": [
    "x=5.8\n",
    "if x<0:\n",
    "    print('pos')\n",
    "elif x<0:\n",
    "    print('neg')\n",
    "else:\n",
    "    print('zero')\n",
    "          "
   ]
  },
  {
   "cell_type": "code",
   "execution_count": 7,
   "id": "05d19cc6-4e87-4624-8f9a-9ac92cb4bce3",
   "metadata": {},
   "outputs": [
    {
     "name": "stdout",
     "output_type": "stream",
     "text": [
      "zero\n"
     ]
    }
   ],
   "source": [
    "x=0\n",
    "if x>0:\n",
    "    print('pos')\n",
    "    if x>10:\n",
    "        print('M')\n",
    "    elif x>20:\n",
    "        print('P')\n",
    "    elif x<10:\n",
    "        print('K')\n",
    "    else:\n",
    "        print('T')\n",
    "elif x<0:\n",
    "    print('neg')\n",
    "\n",
    "    if x<-20:\n",
    "        print('Q')\n",
    "    elif x>-10:\n",
    "        print('C')\n",
    "    elif x>-30:\n",
    "        print('Z')\n",
    "\n",
    "else:\n",
    "    print('zero')\n",
    "          "
   ]
  },
  {
   "cell_type": "code",
   "execution_count": 20,
   "id": "a30ee27f-9475-48e6-8c84-c6b25de57d4c",
   "metadata": {},
   "outputs": [
    {
     "name": "stdout",
     "output_type": "stream",
     "text": [
      "Yes\n"
     ]
    }
   ],
   "source": [
    "x='telangana'\n",
    "x='Tiger'\n",
    "x='Tan'\n",
    "x='tiger'\n",
    "if x[0]=='t' or x[0]=='T':\n",
    "    print('Yes')\n",
    "else:\n",
    "    print('No')"
   ]
  },
  {
   "cell_type": "markdown",
   "id": "1dafc2f0-289e-415b-947a-512a0b7e8920",
   "metadata": {},
   "source": [
    "x='lion'\n",
    "x='mumbai'"
   ]
  },
  {
   "cell_type": "code",
   "execution_count": 22,
   "id": "47882283-6fc0-420d-a4d6-104b31507ea7",
   "metadata": {},
   "outputs": [
    {
     "name": "stdout",
     "output_type": "stream",
     "text": [
      "Yes\n"
     ]
    }
   ],
   "source": [
    "x='mumbai'\n",
    "if x[0].lower() in ('t','s','m'):\n",
    "    print('Yes')\n",
    "else:\n",
    "    print('No')"
   ]
  },
  {
   "cell_type": "markdown",
   "id": "f6365869-8292-4e8d-adde-716bcfe07104",
   "metadata": {},
   "source": [
    "s,h,m"
   ]
  },
  {
   "cell_type": "code",
   "execution_count": 24,
   "id": "91d93aa3-682f-4076-a4f0-6fbcdbaa2d7f",
   "metadata": {},
   "outputs": [
    {
     "name": "stdout",
     "output_type": "stream",
     "text": [
      "Yes\n"
     ]
    }
   ],
   "source": [
    "if x[0]=='s' or x[0]=='S' or x[0]=='m' or x[0]=='M' or x[0]=='h' or x[0]=='h':\n",
    "    print('Yes')\n",
    "else:\n",
    "    print('No')"
   ]
  },
  {
   "cell_type": "code",
   "execution_count": 25,
   "id": "4e0266ef-f77a-4a39-b613-3cabc5b9e553",
   "metadata": {},
   "outputs": [
    {
     "name": "stdout",
     "output_type": "stream",
     "text": [
      "Yes\n"
     ]
    }
   ],
   "source": [
    "if x[0].lower() in ('s','m','h'):\n",
    "    print('Yes')\n",
    "else:\n",
    "    print('No')"
   ]
  }
 ],
 "metadata": {
  "kernelspec": {
   "display_name": "Python 3 (ipykernel)",
   "language": "python",
   "name": "python3"
  },
  "language_info": {
   "codemirror_mode": {
    "name": "ipython",
    "version": 3
   },
   "file_extension": ".py",
   "mimetype": "text/x-python",
   "name": "python",
   "nbconvert_exporter": "python",
   "pygments_lexer": "ipython3",
   "version": "3.12.7"
  }
 },
 "nbformat": 4,
 "nbformat_minor": 5
}
